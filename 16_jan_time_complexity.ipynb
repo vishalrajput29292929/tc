{
 "cells": [
  {
   "cell_type": "code",
   "execution_count": 4,
   "id": "4ecc7c21-8404-406c-bb39-67c81a453c88",
   "metadata": {},
   "outputs": [
    {
     "data": {
      "text/plain": [
       "'TC = O(n2)'"
      ]
     },
     "execution_count": 4,
     "metadata": {},
     "output_type": "execute_result"
    }
   ],
   "source": [
    "#Q1\n",
    "'TC = O(n2)'\n"
   ]
  },
  {
   "cell_type": "code",
   "execution_count": 3,
   "id": "ecac5dbb-3cba-4732-88fa-868780bdc574",
   "metadata": {},
   "outputs": [
    {
     "data": {
      "text/plain": [
       "'TC : O(n2)'"
      ]
     },
     "execution_count": 3,
     "metadata": {},
     "output_type": "execute_result"
    }
   ],
   "source": [
    "#Q2\n",
    "'TC : O(n2)'\n"
   ]
  },
  {
   "cell_type": "code",
   "execution_count": 6,
   "id": "fa43b0ce-4cc4-424f-a634-acd7348d0f5f",
   "metadata": {},
   "outputs": [
    {
     "data": {
      "text/plain": [
       "'Worst case TC : O(n)'"
      ]
     },
     "execution_count": 6,
     "metadata": {},
     "output_type": "execute_result"
    }
   ],
   "source": [
    "#Q3\n",
    "'Worst case TC : O(n)'"
   ]
  },
  {
   "cell_type": "code",
   "execution_count": 7,
   "id": "26c6c7ba-c824-429d-95a3-9b4d170f6b44",
   "metadata": {},
   "outputs": [
    {
     "data": {
      "text/plain": [
       "'Worst case TC : O(n2)'"
      ]
     },
     "execution_count": 7,
     "metadata": {},
     "output_type": "execute_result"
    }
   ],
   "source": [
    "#Q4\n",
    "'Worst case TC : O(n2)'"
   ]
  },
  {
   "cell_type": "code",
   "execution_count": 8,
   "id": "042e7e0a-2168-43a8-be4c-6a5ccce8e719",
   "metadata": {},
   "outputs": [
    {
     "data": {
      "text/plain": [
       "' Worst case TC : O(n2)'"
      ]
     },
     "execution_count": 8,
     "metadata": {},
     "output_type": "execute_result"
    }
   ],
   "source": [
    "#Q5\n",
    "' Worst case TC : O(n2)'"
   ]
  },
  {
   "cell_type": "code",
   "execution_count": 9,
   "id": "de5c5d10-f5d0-4c1f-a903-bca5333b8877",
   "metadata": {},
   "outputs": [],
   "source": [
    "#Q6\n",
    "#Write a recursive function to calculate the sum of digits of a given positive integer.\n",
    "#sum_of_digits(123) -> 6"
   ]
  },
  {
   "cell_type": "code",
   "execution_count": 14,
   "id": "485a7a7b-3000-48ce-94d1-6d8673df2a5b",
   "metadata": {},
   "outputs": [
    {
     "name": "stdout",
     "output_type": "stream",
     "text": [
      "Sum of digits in 123 is 6\n"
     ]
    }
   ],
   "source": [
    "def sum_of_digit( n ):\n",
    "    if n == 0:\n",
    "        return 0\n",
    "    return (n % 10 + sum_of_digit(int(n / 10)))\n",
    "\n",
    "num = 123\n",
    "result = sum_of_digit(num)\n",
    "print(\"Sum of digits in\",num,\"is\", result)"
   ]
  },
  {
   "cell_type": "code",
   "execution_count": 15,
   "id": "7b0cdd77-eb83-4f32-94d9-12d4340ac76a",
   "metadata": {},
   "outputs": [],
   "source": [
    "#Q6\n",
    "#rite a recursive function to generate the first n numbers of the Fibonacci series.\n",
    "#fibonacci_series(6) -> [0, 1, 1, 2, 3, 5]"
   ]
  },
  {
   "cell_type": "code",
   "execution_count": 10,
   "id": "ae6a1866-3dc3-49e5-b40e-61258966d531",
   "metadata": {},
   "outputs": [],
   "source": [
    "def fibonacci_numbers(num): \n",
    "    if num == 0: \n",
    "        return 0\n",
    "    elif num == 1: \n",
    "        return 1\n",
    "    else: \n",
    "        # printing fibonacci numbers \n",
    "        return fibonacci_numbers(num-2)+fibonacci_numbers(num-1) \n",
    "  \n",
    "  \n"
   ]
  },
  {
   "cell_type": "code",
   "execution_count": 14,
   "id": "3aadf91c-95c0-4b77-b545-d1a469247f44",
   "metadata": {},
   "outputs": [
    {
     "name": "stdout",
     "output_type": "stream",
     "text": [
      "0 1 1 "
     ]
    }
   ],
   "source": [
    "n = 3\n",
    "for i in range(0, n): \n",
    "    print(fibonacci_numbers(i), end=\" \") "
   ]
  },
  {
   "cell_type": "code",
   "execution_count": 7,
   "id": "2e701f47-bfb5-4067-9cc7-b35bbbf90d9f",
   "metadata": {},
   "outputs": [],
   "source": [
    "#q7Given a set of positive integers and a target sum, write a recursive function to determine if there exists a subsetof the integers that adds up to the target sum.subset_sum([3, 34, 4, 12, 5, 2], 9) -> True"
   ]
  },
  {
   "cell_type": "code",
   "execution_count": 8,
   "id": "a82395a2-17bb-485c-aba3-a8ade8e5fc6a",
   "metadata": {},
   "outputs": [
    {
     "name": "stdout",
     "output_type": "stream",
     "text": [
      "False\n"
     ]
    }
   ],
   "source": [
    "# Problem 8 : Subset Sum\n",
    "def isSubsetSum(set, n, sum):\n",
    "\n",
    "    # Base Cases\n",
    "    if (sum == 0):\n",
    "        return True\n",
    "    if (n == 0):\n",
    "        return False\n",
    "\n",
    "    # If last element is greater than\n",
    "    # sum, then ignore it\n",
    "    if (set[n - 1] > sum):\n",
    "        return isSubsetSum(set, n - 1, sum)\n",
    "\n",
    "    # Else, check if sum can be obtained\n",
    "    # by any of the following\n",
    "    # (a) including the last element\n",
    "    # (b) excluding the last element\n",
    "    return isSubsetSum(\n",
    "        set, n-1, sum) or isSubsetSum(\n",
    "        set, n-1, sum-set[n-1])\n",
    "\n",
    "print(isSubsetSum([3, 34, 4, 12, 5, 2], 6 , 101))"
   ]
  },
  {
   "cell_type": "code",
   "execution_count": 9,
   "id": "07f76639-8d4a-49d1-b3ca-696af227e633",
   "metadata": {},
   "outputs": [],
   "source": [
    "#Q9"
   ]
  },
  {
   "cell_type": "code",
   "execution_count": 10,
   "id": "f7f19666-8e89-4651-a945-61fda62ef5e8",
   "metadata": {},
   "outputs": [
    {
     "name": "stdout",
     "output_type": "stream",
     "text": [
      "True\n"
     ]
    }
   ],
   "source": [
    "\n",
    "\n",
    "def wordBreak(wordList, word):\n",
    "    if word == '':\n",
    "        return True\n",
    "    else:\n",
    "        wordLen = len(word)\n",
    "        for i in range(1,wordLen+1):\n",
    "          if word[:i] in wordList and wordBreak(wordList, word[i:]):\n",
    "            return True\n",
    "        return False\n",
    "\n",
    "print(wordBreak( [\"leet\", \"code\"], \"leetcode\"))\n"
   ]
  },
  {
   "cell_type": "code",
   "execution_count": 11,
   "id": "3d70c72e-dfde-4b51-bbc4-454df928ed47",
   "metadata": {},
   "outputs": [
    {
     "name": "stdout",
     "output_type": "stream",
     "text": [
      ". . Q . \n",
      "Q . . . \n",
      ". . . Q \n",
      ". Q . . \n"
     ]
    }
   ],
   "source": [
    "#Q10\n",
    "global N\n",
    "N = 4\n",
    "\n",
    "\n",
    "def printSolution(board):\n",
    "    for i in range(N):\n",
    "        for j in range(N):\n",
    "            if board[i][j] == 1:\n",
    "                print(\"Q\",end=\" \")\n",
    "            else:\n",
    "                print(\".\",end=\" \")\n",
    "        print()\n",
    "\n",
    "\n",
    "def isSafe(board, row, col):\n",
    "\n",
    "    # Check this row on left side\n",
    "    for i in range(col):\n",
    "        if board[row][i] == 1:\n",
    "            return False\n",
    "\n",
    "    # Check upper diagonal on left side\n",
    "    for i, j in zip(range(row, -1, -1),\n",
    "                    range(col, -1, -1)):\n",
    "        if board[i][j] == 1:\n",
    "            return False\n",
    "\n",
    "    # Check lower diagonal on left side\n",
    "    for i, j in zip(range(row, N, 1),\n",
    "                    range(col, -1, -1)):\n",
    "        if board[i][j] == 1:\n",
    "            return False\n",
    "\n",
    "    return True\n",
    "\n",
    "\n",
    "def solveNQUtil(board, col):\n",
    "\n",
    "    # Base case: If all queens are placed\n",
    "    # then return true\n",
    "    if col >= N:\n",
    "        return True\n",
    "\n",
    "    # Consider this column and try placing\n",
    "    # this queen in all rows one by one\n",
    "    for i in range(N):\n",
    "\n",
    "        if isSafe(board, i, col):\n",
    "\n",
    "            # Place this queen in board[i][col]\n",
    "            board[i][col] = 1\n",
    "\n",
    "            # Recur to place rest of the queens\n",
    "            if solveNQUtil(board, col + 1) :\n",
    "                return True\n",
    "\n",
    "            # If placing queen in board[i][col\n",
    "            # doesn't lead to a solution, then\n",
    "            # queen from board[i][col]\n",
    "            board[i][col] = 0\n",
    "\n",
    "    # If the queen can not be placed in any row in\n",
    "    # this column col then return false\n",
    "    return False\n",
    "\n",
    "\n",
    "\n",
    "def solveNQ():\n",
    "    board = [[0, 0, 0, 0],\n",
    "             [0, 0, 0, 0],\n",
    "             [0, 0, 0, 0],\n",
    "             [0, 0, 0, 0]]\n",
    "\n",
    "    if not solveNQUtil(board, 0) :\n",
    "        print(\"Solution does not exist\")\n",
    "        return\n",
    "\n",
    "    printSolution(board)\n",
    "\n",
    "\n",
    "\n",
    "solveNQ()\n"
   ]
  },
  {
   "cell_type": "code",
   "execution_count": null,
   "id": "0e0a270d-6c61-437b-82e3-364630ac11d2",
   "metadata": {},
   "outputs": [],
   "source": []
  }
 ],
 "metadata": {
  "kernelspec": {
   "display_name": "Python 3 (ipykernel)",
   "language": "python",
   "name": "python3"
  },
  "language_info": {
   "codemirror_mode": {
    "name": "ipython",
    "version": 3
   },
   "file_extension": ".py",
   "mimetype": "text/x-python",
   "name": "python",
   "nbconvert_exporter": "python",
   "pygments_lexer": "ipython3",
   "version": "3.10.8"
  }
 },
 "nbformat": 4,
 "nbformat_minor": 5
}
